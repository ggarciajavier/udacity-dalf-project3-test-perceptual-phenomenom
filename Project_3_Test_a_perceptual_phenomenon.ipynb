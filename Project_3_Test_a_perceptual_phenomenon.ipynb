{
 "cells": [
  {
   "cell_type": "markdown",
   "metadata": {},
   "source": [
    "\n",
    "# Project: Investigate the results of a Stroop task\n",
    "\n",
    "## Table of Contents\n",
    "<ol>\n",
    "<li><a href=\"#intro\">Introduction</a></li>\n",
    "<li><a href=\"#question1\">Question 1: Identify the independent and dependent variables</a></li>\n",
    "<li><a href=\"#question2\">Question 2: </a></li>\n",
    "<ol>\n",
    "<li><a href=\"#question2a\">Establish the hypotheses of the test</a></li>\n",
    "<li><a href=\"#question2b\">Define the statistical test to be performed</a></li>\n",
    "</ol>\n",
    "<li><a href=\"#question3\">Question 3: Report some descriptive statistics of the data</a></li>\n",
    "<li><a href=\"#question4\">Question 4: Plotting of the results</a></li>\n",
    "<li><a href=\"#question5\">Question 5: Perform the statistical test and interpret the results</a></li>\n",
    "<li><a href=\"#references\">References</a></li>\n",
    "</ol>"
   ]
  },
  {
   "cell_type": "markdown",
   "metadata": {},
   "source": [
    "<a id='intro'></a>\n",
    "## 1. Introduction\n",
    "\n",
    "The objective of this project is to perform a statistical test on the results obtained from a Stroop task. A Stroop task is a test designed to measure the *delay in the reaction time in the performance of a task which occurs due to a mismatch in the stimuli provided* (ref. <a href=\"#ref1\">[1]</a>). This cognitive interference is known as the Stroop effect.\n",
    "\n",
    "In particular, the test here presented is designed to measure the time needed by a person to name the color of the font of a set of printed color-naming words in two different states: one where the color of the font matches the word (e.g. <font color='red'>Red</font>) and one where the font color mismatches the one named in the word (e.g. <font color='blue'>Green</font>). An example of the test can be found in the link provided in reference <a href=\"#ref2\">[2]</a>.\n",
    "\n",
    "In order to gain some more understanding of this phenomenom, I have decided to take the test and note here the obtained results:\n",
    "<ul>\n",
    "<li> Time needed to name the colors matching the printed words (i.e. congruent task): $t_C = 14.97$ seconds</li>\n",
    "<li> Time needed to name the colors not matching the printed words (i.e. incongruent task): $t_I = 22.86$ seconds</li>\n",
    "</ul>\n",
    "\n",
    "These results seem to indicate that it takes longer to name the colors when the words are not matching the color of the font as when they are the same. This might serve as an indication of the alternative hypothesis to be used in the test.\n",
    "\n",
    "To perform the statistical test, I will make use of the data provided by Udacity containing the results from a number of participants in the task (ref. <a href=\"#ref2\">[2]</a>), which I will import into a Pandas DataFrame to ease the subsequent calculations. Although I have performed the task myself, I will not add my results to the available data as I cannot ensure that I have performed the test in the same conditions as the other participants."
   ]
  },
  {
   "cell_type": "code",
   "execution_count": 1,
   "metadata": {
    "collapsed": true
   },
   "outputs": [],
   "source": [
    "# The first step is to load the basic packages that I will use throughout the analysis\n",
    "import pandas as pd\n",
    "import numpy as np\n",
    "import matplotlib.pyplot as plt\n",
    "import seaborn as sns\n",
    "\n",
    "# I also include the following line to ensure that the graphs are plotted as output of their corresponding cells\n",
    "%matplotlib inline"
   ]
  },
  {
   "cell_type": "code",
   "execution_count": 2,
   "metadata": {},
   "outputs": [
    {
     "data": {
      "text/html": [
       "<div>\n",
       "<table border=\"1\" class=\"dataframe\">\n",
       "  <thead>\n",
       "    <tr style=\"text-align: right;\">\n",
       "      <th></th>\n",
       "      <th>Congruent</th>\n",
       "      <th>Incongruent</th>\n",
       "    </tr>\n",
       "  </thead>\n",
       "  <tbody>\n",
       "    <tr>\n",
       "      <th>0</th>\n",
       "      <td>12.079</td>\n",
       "      <td>19.278</td>\n",
       "    </tr>\n",
       "    <tr>\n",
       "      <th>1</th>\n",
       "      <td>16.791</td>\n",
       "      <td>18.741</td>\n",
       "    </tr>\n",
       "    <tr>\n",
       "      <th>2</th>\n",
       "      <td>9.564</td>\n",
       "      <td>21.214</td>\n",
       "    </tr>\n",
       "    <tr>\n",
       "      <th>3</th>\n",
       "      <td>8.630</td>\n",
       "      <td>15.687</td>\n",
       "    </tr>\n",
       "    <tr>\n",
       "      <th>4</th>\n",
       "      <td>14.669</td>\n",
       "      <td>22.803</td>\n",
       "    </tr>\n",
       "    <tr>\n",
       "      <th>5</th>\n",
       "      <td>12.238</td>\n",
       "      <td>20.878</td>\n",
       "    </tr>\n",
       "    <tr>\n",
       "      <th>6</th>\n",
       "      <td>14.692</td>\n",
       "      <td>24.572</td>\n",
       "    </tr>\n",
       "    <tr>\n",
       "      <th>7</th>\n",
       "      <td>8.987</td>\n",
       "      <td>17.394</td>\n",
       "    </tr>\n",
       "    <tr>\n",
       "      <th>8</th>\n",
       "      <td>9.401</td>\n",
       "      <td>20.762</td>\n",
       "    </tr>\n",
       "    <tr>\n",
       "      <th>9</th>\n",
       "      <td>14.480</td>\n",
       "      <td>26.282</td>\n",
       "    </tr>\n",
       "    <tr>\n",
       "      <th>10</th>\n",
       "      <td>22.328</td>\n",
       "      <td>24.524</td>\n",
       "    </tr>\n",
       "    <tr>\n",
       "      <th>11</th>\n",
       "      <td>15.298</td>\n",
       "      <td>18.644</td>\n",
       "    </tr>\n",
       "    <tr>\n",
       "      <th>12</th>\n",
       "      <td>15.073</td>\n",
       "      <td>17.510</td>\n",
       "    </tr>\n",
       "    <tr>\n",
       "      <th>13</th>\n",
       "      <td>16.929</td>\n",
       "      <td>20.330</td>\n",
       "    </tr>\n",
       "    <tr>\n",
       "      <th>14</th>\n",
       "      <td>18.200</td>\n",
       "      <td>35.255</td>\n",
       "    </tr>\n",
       "    <tr>\n",
       "      <th>15</th>\n",
       "      <td>12.130</td>\n",
       "      <td>22.158</td>\n",
       "    </tr>\n",
       "    <tr>\n",
       "      <th>16</th>\n",
       "      <td>18.495</td>\n",
       "      <td>25.139</td>\n",
       "    </tr>\n",
       "    <tr>\n",
       "      <th>17</th>\n",
       "      <td>10.639</td>\n",
       "      <td>20.429</td>\n",
       "    </tr>\n",
       "    <tr>\n",
       "      <th>18</th>\n",
       "      <td>11.344</td>\n",
       "      <td>17.425</td>\n",
       "    </tr>\n",
       "    <tr>\n",
       "      <th>19</th>\n",
       "      <td>12.369</td>\n",
       "      <td>34.288</td>\n",
       "    </tr>\n",
       "    <tr>\n",
       "      <th>20</th>\n",
       "      <td>12.944</td>\n",
       "      <td>23.894</td>\n",
       "    </tr>\n",
       "    <tr>\n",
       "      <th>21</th>\n",
       "      <td>14.233</td>\n",
       "      <td>17.960</td>\n",
       "    </tr>\n",
       "    <tr>\n",
       "      <th>22</th>\n",
       "      <td>19.710</td>\n",
       "      <td>22.058</td>\n",
       "    </tr>\n",
       "    <tr>\n",
       "      <th>23</th>\n",
       "      <td>16.004</td>\n",
       "      <td>21.157</td>\n",
       "    </tr>\n",
       "  </tbody>\n",
       "</table>\n",
       "</div>"
      ],
      "text/plain": [
       "    Congruent  Incongruent\n",
       "0      12.079       19.278\n",
       "1      16.791       18.741\n",
       "2       9.564       21.214\n",
       "3       8.630       15.687\n",
       "4      14.669       22.803\n",
       "5      12.238       20.878\n",
       "6      14.692       24.572\n",
       "7       8.987       17.394\n",
       "8       9.401       20.762\n",
       "9      14.480       26.282\n",
       "10     22.328       24.524\n",
       "11     15.298       18.644\n",
       "12     15.073       17.510\n",
       "13     16.929       20.330\n",
       "14     18.200       35.255\n",
       "15     12.130       22.158\n",
       "16     18.495       25.139\n",
       "17     10.639       20.429\n",
       "18     11.344       17.425\n",
       "19     12.369       34.288\n",
       "20     12.944       23.894\n",
       "21     14.233       17.960\n",
       "22     19.710       22.058\n",
       "23     16.004       21.157"
      ]
     },
     "execution_count": 2,
     "metadata": {},
     "output_type": "execute_result"
    }
   ],
   "source": [
    "# The next step is to import the .csv file containing the results of the study\n",
    "data_path = '../Files/stroopdata.csv'\n",
    "df_stroop = pd.read_csv(data_path)\n",
    "\n",
    "df_stroop"
   ]
  },
  {
   "cell_type": "markdown",
   "metadata": {},
   "source": [
    "<a id='question1'></a>\n",
    "## Question 1: Identify the variables\n",
    "Based on the description given in the project instructions, we can conclude the following:\n",
    "<ul>\n",
    "<li>The **independent** variable will be the type of task to perform: congruent or incogruent words</li>\n",
    "<li>The **dependent** variable will be the time it takes each participant to name the ink colors in the task (equally-sized lists)</li>\n",
    "</ul>\n",
    "\n"
   ]
  },
  {
   "cell_type": "markdown",
   "metadata": {},
   "source": [
    "<a id='question2a'></a>\n",
    "## Question 2a: Establish the hypotheses of the test\n",
    "\n",
    "The phenomenon to test is whether or not the performance of the Stroop task with incongruent words takes longer than the congruent one. Mathematically speaking, we want to find out if the average time it takes a person to name the incongruent word colors ($\\mu _I$) is larger than the average it takes to name the congruent ones ($\\mu _C$). Taking this into account, we will assume the null hypothesis, $H_0$, to be that there is no difference between both means ($\\mu _C = \\mu _I$). The alternative hypothesis, $H_1$, should therefore be that the average of the incongruent Stroop task ($\\mu _I$) is larger than that of the congruent one ($\\mu _C$).\n",
    "\n",
    "<ol>\n",
    "<li>$H_0: \\mu _I = \\mu _C$ (or $\\mu _D = 0$)</li>\n",
    "<li>$H_1: \\mu _I > \\mu _C$ (or $\\mu _D > 0$)</li>\n",
    "</ol>\n",
    "\n",
    "where $\\mu _D = \\mu _I - \\mu _C$. For the sake of simplicity in the notation, I will perform the statistical test on the distribution of the differences ($\\mu _D$)."
   ]
  },
  {
   "cell_type": "markdown",
   "metadata": {},
   "source": [
    "<a id='question2b'></a>\n",
    "## Question 2b: Define the statistical test to be performed\n",
    "\n",
    "Given that we want to we want to infer properties of a population which are unknown &ndash; i.e. the average time it takes any person to complete each of the Stroop tasks &ndash; based on the averages of a limited sample of people (n = 24), the most appropriate statistical test to perform would be a t-test. \n",
    "\n",
    "Since the alternative hypothesis of the test is only meant to test if $\\mu_ I$ is larger than $\\mu _C$, the test will be a one-tailed t-test in the positive direction (or upper-tailed t-test), as we are only interested in one of the regions of the distribution.\n",
    "\n",
    "The test to be performed can be defined as a *one-tailed paired sample t-test*, since we are measuring the performance of each individual twice: once in the congruent task and another one in the incongruent task."
   ]
  },
  {
   "cell_type": "markdown",
   "metadata": {},
   "source": [
    "<a id='question3'></a>\n",
    "## Question 3: Report some descriptive statistics of the data\n",
    "\n",
    "In order to compute the descriptive statistics of the data I will make use of the Pandas function *describe()*, which generates a series of statistics for a DataFrame array &ndash; including statistics for central tendency and dispersion."
   ]
  },
  {
   "cell_type": "code",
   "execution_count": 3,
   "metadata": {},
   "outputs": [
    {
     "data": {
      "text/html": [
       "<div>\n",
       "<table border=\"1\" class=\"dataframe\">\n",
       "  <thead>\n",
       "    <tr style=\"text-align: right;\">\n",
       "      <th></th>\n",
       "      <th>Congruent</th>\n",
       "      <th>Incongruent</th>\n",
       "    </tr>\n",
       "  </thead>\n",
       "  <tbody>\n",
       "    <tr>\n",
       "      <th>count</th>\n",
       "      <td>24.000000</td>\n",
       "      <td>24.000000</td>\n",
       "    </tr>\n",
       "    <tr>\n",
       "      <th>mean</th>\n",
       "      <td>14.051125</td>\n",
       "      <td>22.015917</td>\n",
       "    </tr>\n",
       "    <tr>\n",
       "      <th>std</th>\n",
       "      <td>3.559358</td>\n",
       "      <td>4.797057</td>\n",
       "    </tr>\n",
       "    <tr>\n",
       "      <th>min</th>\n",
       "      <td>8.630000</td>\n",
       "      <td>15.687000</td>\n",
       "    </tr>\n",
       "    <tr>\n",
       "      <th>25%</th>\n",
       "      <td>11.895250</td>\n",
       "      <td>18.716750</td>\n",
       "    </tr>\n",
       "    <tr>\n",
       "      <th>50%</th>\n",
       "      <td>14.356500</td>\n",
       "      <td>21.017500</td>\n",
       "    </tr>\n",
       "    <tr>\n",
       "      <th>75%</th>\n",
       "      <td>16.200750</td>\n",
       "      <td>24.051500</td>\n",
       "    </tr>\n",
       "    <tr>\n",
       "      <th>max</th>\n",
       "      <td>22.328000</td>\n",
       "      <td>35.255000</td>\n",
       "    </tr>\n",
       "  </tbody>\n",
       "</table>\n",
       "</div>"
      ],
      "text/plain": [
       "       Congruent  Incongruent\n",
       "count  24.000000    24.000000\n",
       "mean   14.051125    22.015917\n",
       "std     3.559358     4.797057\n",
       "min     8.630000    15.687000\n",
       "25%    11.895250    18.716750\n",
       "50%    14.356500    21.017500\n",
       "75%    16.200750    24.051500\n",
       "max    22.328000    35.255000"
      ]
     },
     "execution_count": 3,
     "metadata": {},
     "output_type": "execute_result"
    }
   ],
   "source": [
    "df_stroop.describe()"
   ]
  },
  {
   "cell_type": "code",
   "execution_count": 4,
   "metadata": {},
   "outputs": [
    {
     "name": "stdout",
     "output_type": "stream",
     "text": [
      "14.05\n",
      "22.02\n"
     ]
    }
   ],
   "source": [
    "# Compute the sample means of the Congruent and Incongruent distributions\n",
    "xbar_c = round(df_stroop['Congruent'].mean(), 2)\n",
    "print xbar_c\n",
    "\n",
    "xbar_i = round(df_stroop['Incongruent'].mean(), 2)\n",
    "print xbar_i"
   ]
  },
  {
   "cell_type": "markdown",
   "metadata": {},
   "source": [
    "The results above show the following results in terms of central tendency:\n",
    "<ul>\n",
    "<li> Average time needed by the test subjects to complete the **congruent** Stroop task: $\\bar{x} _C = 14.05$ seconds</li>\n",
    "<li> Average time needed by the test subjects to complete the **incongruent** Stroop task: $\\bar{x} _I = 22.02$ seconds</li>\n",
    "</ul>\n",
    "\n",
    "This confirms that the alternative hypothesis is defined in the right direction, since $\\bar{x} _I > \\bar{x} _C$.\n",
    "\n",
    "In terms of variability, we have the values of the standard deviation of the time needed to complete each task type:\n",
    "<ul>\n",
    "<li> $s _C = 3.56$ seconds</li>\n",
    "<li> $s _I = 4.80$ seconds</li>\n",
    "</ul>\n",
    "\n",
    "It is worth mentioning that the standard deviations computed with the Pandas *std()* function contain the so-called Bessel's correction, which corrects the bias in the estimation of the population variance from the variance of a sample ($s^2$). See refences <a href=\"#ref2\">[2]</a> and <a href=\"#ref3\">[3]</a> for more information.\n",
    "\n",
    "Additionally, we see that the sample size is $n = 24$.\n",
    "\n",
    "Finally, in order to perform the statistical test, we need to compute the distribution of the differences. For this, I will simply generate a new column in the DataFrame subtracting the congruent values from the incongruent ones."
   ]
  },
  {
   "cell_type": "code",
   "execution_count": 5,
   "metadata": {},
   "outputs": [
    {
     "data": {
      "text/html": [
       "<div>\n",
       "<table border=\"1\" class=\"dataframe\">\n",
       "  <thead>\n",
       "    <tr style=\"text-align: right;\">\n",
       "      <th></th>\n",
       "      <th>Congruent</th>\n",
       "      <th>Incongruent</th>\n",
       "      <th>Diff</th>\n",
       "    </tr>\n",
       "  </thead>\n",
       "  <tbody>\n",
       "    <tr>\n",
       "      <th>0</th>\n",
       "      <td>12.079</td>\n",
       "      <td>19.278</td>\n",
       "      <td>7.199</td>\n",
       "    </tr>\n",
       "    <tr>\n",
       "      <th>1</th>\n",
       "      <td>16.791</td>\n",
       "      <td>18.741</td>\n",
       "      <td>1.950</td>\n",
       "    </tr>\n",
       "    <tr>\n",
       "      <th>2</th>\n",
       "      <td>9.564</td>\n",
       "      <td>21.214</td>\n",
       "      <td>11.650</td>\n",
       "    </tr>\n",
       "    <tr>\n",
       "      <th>3</th>\n",
       "      <td>8.630</td>\n",
       "      <td>15.687</td>\n",
       "      <td>7.057</td>\n",
       "    </tr>\n",
       "    <tr>\n",
       "      <th>4</th>\n",
       "      <td>14.669</td>\n",
       "      <td>22.803</td>\n",
       "      <td>8.134</td>\n",
       "    </tr>\n",
       "    <tr>\n",
       "      <th>5</th>\n",
       "      <td>12.238</td>\n",
       "      <td>20.878</td>\n",
       "      <td>8.640</td>\n",
       "    </tr>\n",
       "    <tr>\n",
       "      <th>6</th>\n",
       "      <td>14.692</td>\n",
       "      <td>24.572</td>\n",
       "      <td>9.880</td>\n",
       "    </tr>\n",
       "    <tr>\n",
       "      <th>7</th>\n",
       "      <td>8.987</td>\n",
       "      <td>17.394</td>\n",
       "      <td>8.407</td>\n",
       "    </tr>\n",
       "    <tr>\n",
       "      <th>8</th>\n",
       "      <td>9.401</td>\n",
       "      <td>20.762</td>\n",
       "      <td>11.361</td>\n",
       "    </tr>\n",
       "    <tr>\n",
       "      <th>9</th>\n",
       "      <td>14.480</td>\n",
       "      <td>26.282</td>\n",
       "      <td>11.802</td>\n",
       "    </tr>\n",
       "    <tr>\n",
       "      <th>10</th>\n",
       "      <td>22.328</td>\n",
       "      <td>24.524</td>\n",
       "      <td>2.196</td>\n",
       "    </tr>\n",
       "    <tr>\n",
       "      <th>11</th>\n",
       "      <td>15.298</td>\n",
       "      <td>18.644</td>\n",
       "      <td>3.346</td>\n",
       "    </tr>\n",
       "    <tr>\n",
       "      <th>12</th>\n",
       "      <td>15.073</td>\n",
       "      <td>17.510</td>\n",
       "      <td>2.437</td>\n",
       "    </tr>\n",
       "    <tr>\n",
       "      <th>13</th>\n",
       "      <td>16.929</td>\n",
       "      <td>20.330</td>\n",
       "      <td>3.401</td>\n",
       "    </tr>\n",
       "    <tr>\n",
       "      <th>14</th>\n",
       "      <td>18.200</td>\n",
       "      <td>35.255</td>\n",
       "      <td>17.055</td>\n",
       "    </tr>\n",
       "    <tr>\n",
       "      <th>15</th>\n",
       "      <td>12.130</td>\n",
       "      <td>22.158</td>\n",
       "      <td>10.028</td>\n",
       "    </tr>\n",
       "    <tr>\n",
       "      <th>16</th>\n",
       "      <td>18.495</td>\n",
       "      <td>25.139</td>\n",
       "      <td>6.644</td>\n",
       "    </tr>\n",
       "    <tr>\n",
       "      <th>17</th>\n",
       "      <td>10.639</td>\n",
       "      <td>20.429</td>\n",
       "      <td>9.790</td>\n",
       "    </tr>\n",
       "    <tr>\n",
       "      <th>18</th>\n",
       "      <td>11.344</td>\n",
       "      <td>17.425</td>\n",
       "      <td>6.081</td>\n",
       "    </tr>\n",
       "    <tr>\n",
       "      <th>19</th>\n",
       "      <td>12.369</td>\n",
       "      <td>34.288</td>\n",
       "      <td>21.919</td>\n",
       "    </tr>\n",
       "    <tr>\n",
       "      <th>20</th>\n",
       "      <td>12.944</td>\n",
       "      <td>23.894</td>\n",
       "      <td>10.950</td>\n",
       "    </tr>\n",
       "    <tr>\n",
       "      <th>21</th>\n",
       "      <td>14.233</td>\n",
       "      <td>17.960</td>\n",
       "      <td>3.727</td>\n",
       "    </tr>\n",
       "    <tr>\n",
       "      <th>22</th>\n",
       "      <td>19.710</td>\n",
       "      <td>22.058</td>\n",
       "      <td>2.348</td>\n",
       "    </tr>\n",
       "    <tr>\n",
       "      <th>23</th>\n",
       "      <td>16.004</td>\n",
       "      <td>21.157</td>\n",
       "      <td>5.153</td>\n",
       "    </tr>\n",
       "  </tbody>\n",
       "</table>\n",
       "</div>"
      ],
      "text/plain": [
       "    Congruent  Incongruent    Diff\n",
       "0      12.079       19.278   7.199\n",
       "1      16.791       18.741   1.950\n",
       "2       9.564       21.214  11.650\n",
       "3       8.630       15.687   7.057\n",
       "4      14.669       22.803   8.134\n",
       "5      12.238       20.878   8.640\n",
       "6      14.692       24.572   9.880\n",
       "7       8.987       17.394   8.407\n",
       "8       9.401       20.762  11.361\n",
       "9      14.480       26.282  11.802\n",
       "10     22.328       24.524   2.196\n",
       "11     15.298       18.644   3.346\n",
       "12     15.073       17.510   2.437\n",
       "13     16.929       20.330   3.401\n",
       "14     18.200       35.255  17.055\n",
       "15     12.130       22.158  10.028\n",
       "16     18.495       25.139   6.644\n",
       "17     10.639       20.429   9.790\n",
       "18     11.344       17.425   6.081\n",
       "19     12.369       34.288  21.919\n",
       "20     12.944       23.894  10.950\n",
       "21     14.233       17.960   3.727\n",
       "22     19.710       22.058   2.348\n",
       "23     16.004       21.157   5.153"
      ]
     },
     "execution_count": 5,
     "metadata": {},
     "output_type": "execute_result"
    }
   ],
   "source": [
    "# Compute a new column with the differences between the Incongruent and Congruent values\n",
    "df_stroop['Diff'] = df_stroop['Incongruent'] - df_stroop['Congruent']\n",
    "df_stroop"
   ]
  },
  {
   "cell_type": "code",
   "execution_count": 6,
   "metadata": {},
   "outputs": [
    {
     "name": "stdout",
     "output_type": "stream",
     "text": [
      "7.96\n"
     ]
    }
   ],
   "source": [
    "# Compute the mean of the differences\n",
    "xbar_d = round(df_stroop['Diff'].mean(), 2)\n",
    "print xbar_d"
   ]
  },
  {
   "cell_type": "code",
   "execution_count": 7,
   "metadata": {},
   "outputs": [
    {
     "name": "stdout",
     "output_type": "stream",
     "text": [
      "4.86\n"
     ]
    }
   ],
   "source": [
    "# Compute the standard deviation of the differences (inclusing Bessel's correction)\n",
    "s_d = round(df_stroop['Diff'].std(), 2)\n",
    "print s_d"
   ]
  },
  {
   "cell_type": "markdown",
   "metadata": {},
   "source": [
    "Based on the obtained results, we see that the mean of the distribution of differences is $\\bar{x} _D = 7.96$ seconds and that the standard deviation is $s _D = 4.86$ seconds. These values will be needed to compute the t value for the test."
   ]
  },
  {
   "cell_type": "markdown",
   "metadata": {},
   "source": [
    "<a id='question4'></a>\n",
    "## Question 4: Plotting of the results\n",
    "\n",
    "In order to visualize the data, I will first produce a histogram showing the distributions of the congruent and incongruent tasks."
   ]
  },
  {
   "cell_type": "code",
   "execution_count": 8,
   "metadata": {},
   "outputs": [
    {
     "data": {
      "text/plain": [
       "<matplotlib.text.Text at 0xa255ba8>"
      ]
     },
     "execution_count": 8,
     "metadata": {},
     "output_type": "execute_result"
    },
    {
     "data": {
      "image/png": "[encoded data removed]",
      "text/plain": [
       "<matplotlib.figure.Figure at 0xbccd898>"
      ]
     },
     "metadata": {},
     "output_type": "display_data"
    }
   ],
   "source": [
    "# Produce a histogram with the distributions of the Congruent and Incongruent tasks\n",
    "sns.set()\n",
    "sns.set_context('notebook', font_scale=1.3)\n",
    "hist_bins = np.linspace(0, 40, 17)\n",
    "\n",
    "ax = plt.gca()\n",
    "sns.distplot(df_stroop['Congruent'], bins=hist_bins, ax=ax, label='Congruent task')\n",
    "sns.distplot(df_stroop['Incongruent'], bins=hist_bins, color='y', ax=ax, label='Incongruent task')\n",
    "plt.legend()\n",
    "plt.xlabel('Time required to finish the task [s]')\n",
    "plt.ylabel('Proportion of people [-]')"
   ]
  },
  {
   "cell_type": "markdown",
   "metadata": {},
   "source": [
    "From this plot, we can observe that the results of the congruent task follow a distribution close to a Gaussian one &ndash; with most of the values close to the mean and the frequency of the results decreasing as we move away from the mean. The incongruent task, however, presents two peaks of data: one close to its average and one in the range between 30 and 40 seconds. This second peak is significantly lower than the one around the average, which seems to indicate the presence of some outliers in the data &ndash; i.e. some participants with abnormally large values in the incongruent task.\n",
    "\n",
    "Next, I would like to plot the distribution of the differences, in order to see if it follows a normal-like distribution."
   ]
  },
  {
   "cell_type": "code",
   "execution_count": 9,
   "metadata": {},
   "outputs": [
    {
     "data": {
      "text/plain": [
       "<matplotlib.text.Text at 0xc12c978>"
      ]
     },
     "execution_count": 9,
     "metadata": {},
     "output_type": "execute_result"
    },
    {
     "data": {
      "image/png": "[encoded data removed]",
      "text/plain": [
       "<matplotlib.figure.Figure at 0xc0f8080>"
      ]
     },
     "metadata": {},
     "output_type": "display_data"
    }
   ],
   "source": [
    "ax = plt.gca()\n",
    "sns.distplot(df_stroop['Diff'], bins=hist_bins, color='r', ax=ax, label='Distribution of diff.')\n",
    "plt.legend()\n",
    "plt.xlabel('Difference in time needed to finish the incongruent task vs. the congruent one [s]')\n",
    "plt.ylabel('Proportion of people [-]')"
   ]
  },
  {
   "cell_type": "markdown",
   "metadata": {},
   "source": [
    "The distribution of the differences presents a less normal-like distribution, probably due to the outliers present in the incongruent task's results."
   ]
  },
  {
   "cell_type": "markdown",
   "metadata": {},
   "source": [
    "<a id='question5'></a>\n",
    "## Question 5: Perform the test and interpret the results\n",
    "\n",
    "The first step to perform the t-test is to obtain the critical t value ($t^*$). For this, we need to define a significance level ($\\alpha$), which represents the probability of rejecting the null hypothesis when it is true (or  type I error). Since we are dealing with a one-tailed t-test, but we are not studying any safety-critical effect, a significance level of 2.5% should provide a good compromise between error types I and II (false positive and false negative respectively):  \n",
    "\n",
    "<center>$\\alpha = 0.025$</center>\n",
    "\n",
    "In order to obtain $t^*$, we also need the number of degrees of freedom of the data, which depends on the size of the sample:\n",
    "\n",
    "<center>$df = n - 1 = 23$</center>\n",
    "\n",
    "With the significance level and the degrees of freedom, we can read the corresponding critical value from the table given in reference <a href=\"#ref4\">[4]</a>:\n",
    "\n",
    "<center>$t^* = 2.069$</center>\n",
    "\n",
    "Next, we can compute the t value for this test by dividing the sample mean ($\\bar{x} _D$) by the standard error of the mean ($s_\\bar{x}$).\n",
    "\n",
    "\\begin{equation*}\n",
    "t = \\frac{\\bar{x} _D}{s_\\bar{x}}\n",
    "\\end{equation*}\n",
    "\n",
    "The standard error of the mean is computed as the ratio between the standard deviation of the sample and the square root of the sample size:\n",
    "\n",
    "\\begin{equation*}\n",
    "s_\\bar{x} = \\frac{s_D}{\\sqrt{n}}\n",
    "\\end{equation*}"
   ]
  },
  {
   "cell_type": "code",
   "execution_count": 10,
   "metadata": {},
   "outputs": [
    {
     "name": "stdout",
     "output_type": "stream",
     "text": [
      "0.992043345827\n"
     ]
    }
   ],
   "source": [
    "# Compute the standard error of the mean\n",
    "s_xbar = s_d / np.sqrt(24)\n",
    "print s_xbar"
   ]
  },
  {
   "cell_type": "code",
   "execution_count": 11,
   "metadata": {},
   "outputs": [
    {
     "name": "stdout",
     "output_type": "stream",
     "text": [
      "8.02384294344\n"
     ]
    }
   ],
   "source": [
    "# Compute the t value\n",
    "t = xbar_d / s_xbar\n",
    "print t"
   ]
  },
  {
   "cell_type": "markdown",
   "metadata": {},
   "source": [
    "The value computed above corresponds to the t value of this test:\n",
    "\n",
    "\\begin{equation*}\n",
    "t = \\frac{\\bar{x} _D}{s_\\bar{x}} = \\frac{7.96}{0.992} = 8.024\n",
    "\\end{equation*}\n",
    "\n",
    "By comparing the computed t value to the critical t value, we obtain the following:\n",
    "\n",
    "\\begin{equation*}\n",
    "t = 8.024 > 2.069 = t^*\n",
    "\\end{equation*}\n",
    "\n",
    "This result means that we can reject the null hypothesis (with a confidence level of 2.5%) and that, therefore, we can accept the alternative hypothesis: the average time it takes a person to name the incongruent word colors is larger than the average it takes to name the congruent ones. In other words, based on the statistical results, we can confirm that it is easier to name the color in which a word is printed when the meaning of the word matches the color of the font than when they do not match."
   ]
  },
  {
   "cell_type": "markdown",
   "metadata": {},
   "source": [
    "<a id='references'></a>\n",
    "## 7. References\n",
    "\n",
    "<ol>\n",
    "<li><a id='ref1'>https://en.wikipedia.org/wiki/Stroop_effect</a></li>\n",
    "<li><a id='ref2'>https://faculty.washington.edu/chudler/java/ready.html</a></li>\n",
    "<li><a id='ref3'>https://drive.google.com/file/d/0B9Yf01UaIbUgQXpYb2NhZ29yX1U/view</a></li>\n",
    "<li><a id='ref3'>https://pandas.pydata.org/pandas-docs/stable/reference/api/pandas.DataFrame.std.html#pandas.DataFrame.std</a></li>\n",
    "<li><a id='ref3'>https://en.wikipedia.org/wiki/Bessel%27s_correction</a></li>\n",
    "<li><a id='ref4'>https://s3.amazonaws.com/udacity-hosted-downloads/t-table.jpg</a></li>\n",
    "</ol>"
   ]
  }
 ],
 "metadata": {
  "kernelspec": {
   "display_name": "Python 3",
   "language": "python",
   "name": "python3"
  },
  "language_info": {
   "codemirror_mode": {
    "name": "ipython",
    "version": 3
   },
   "file_extension": ".py",
   "mimetype": "text/x-python",
   "name": "python",
   "nbconvert_exporter": "python",
   "pygments_lexer": "ipython3",
   "version": "3.6.10"
  }
 },
 "nbformat": 4,
 "nbformat_minor": 2
}
